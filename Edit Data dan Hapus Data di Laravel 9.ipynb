{
 "cells": [
  {
   "cell_type": "markdown",
   "id": "af18cf4b",
   "metadata": {},
   "source": [
    "# &#9989; Edit Data & Hapus Data di Laravel 9"
   ]
  },
  {
   "cell_type": "markdown",
   "id": "c867240c",
   "metadata": {},
   "source": [
    "## &#128304; Edit Data"
   ]
  },
  {
   "cell_type": "markdown",
   "id": "9fcbcfe9",
   "metadata": {},
   "source": [
    "Contoh Controller untuk melakukan edit dan update data:"
   ]
  },
  {
   "cell_type": "code",
   "execution_count": null,
   "id": "84525bb5",
   "metadata": {},
   "outputs": [],
   "source": [
    "...\n",
    "public function edit($id)\n",
    "{\n",
    "    $data = Siswa::where('nomor_induk', $id)->first();\n",
    "    return view('siswa/edit')->with('data', $data);\n",
    "}\n",
    "\n",
    "/**\n",
    " * Update the specified resource in storage.\n",
    " *\n",
    " * @param  \\Illuminate\\Http\\Request  $request\n",
    " * @param  int  $id\n",
    " * @return \\Illuminate\\Http\\Response\n",
    " */\n",
    "public function update(Request $request, $id)\n",
    "{\n",
    "    $request->validate([\n",
    "        'nama' => 'required',\n",
    "        'alamat' => 'required'\n",
    "    ], [\n",
    "        'nama.required' => 'Silakan masukkan nama',\n",
    "        'alamat.required' => 'Silakan masukkan alamat',\n",
    "\n",
    "    ]);\n",
    "\n",
    "    $data = [\n",
    "        'nama' => $request->input('nama'),\n",
    "        'alamat' => $request->input('alamat')\n",
    "    ];\n",
    "    Siswa::where('nomor_induk', $id)->update($data);\n",
    "\n",
    "    return redirect('/siswa')->with('success', 'Berhasil update data');\n",
    "}\n",
    "..."
   ]
  },
  {
   "cell_type": "markdown",
   "id": "dcc28044",
   "metadata": {},
   "source": [
    "Blade untuk melakukan edit data"
   ]
  },
  {
   "cell_type": "code",
   "execution_count": null,
   "id": "e04f4fe3",
   "metadata": {},
   "outputs": [],
   "source": [
    "@extends('layout/aplikasi')\n",
    "\n",
    "@section('konten')\n",
    "    <a href='/siswa' class=\"btn btn-secondary\"><< Kembali</a>\n",
    "    <form action=\"{{ '/siswa/'.$data->nomor_induk }}\" method=\"post\">\n",
    "        @csrf\n",
    "        @method('PUT')\n",
    "        <div class=\"mb-3\">\n",
    "            <h1>Nomor Induk: {{ $data->nomor_induk }}</h1>\n",
    "          </div>\n",
    "          <div class=\"mb-3\">\n",
    "            <label for=\"nama\" class=\"form-label\">Nama</label>\n",
    "            <input type=\"text\" class=\"form-control\" id=\"nama\" value=\"{{ $data->nama }}\" name=\"nama\">\n",
    "          </div>\n",
    "          <div class=\"mb-3\">\n",
    "            <label for=\"alamat\" class=\"form-label\">Alamat</label>\n",
    "            <textarea class=\"form-control\" id=\"alamat\" name='alamat' rows=\"3\">{{ $data->alamat }}</textarea>\n",
    "          </div>\n",
    "          <div class=\"mb-3\">\n",
    "            <button type=\"submit\" class=\"btn btn-primary\">SIMPAN</button>\n",
    "          </div>\n",
    "    </form>\n",
    "@endsection\n"
   ]
  },
  {
   "cell_type": "markdown",
   "id": "6cccb7f1",
   "metadata": {},
   "source": [
    "## &#128304; Hapus Data"
   ]
  },
  {
   "cell_type": "markdown",
   "id": "eda2b6e2",
   "metadata": {},
   "source": [
    "Fungsi di controller untuk hapus data"
   ]
  },
  {
   "cell_type": "code",
   "execution_count": null,
   "id": "66ae0617",
   "metadata": {},
   "outputs": [],
   "source": [
    "...\n",
    "public function destroy($id)\n",
    "{\n",
    "    Siswa::where('nomor_induk', $id)->delete();\n",
    "    return redirect('/siswa')->with('success', 'Berhasil hapus data');\n",
    "}\n",
    "..."
   ]
  },
  {
   "cell_type": "markdown",
   "id": "a2cffbc0",
   "metadata": {},
   "source": [
    "Contoh blade untuk hapus data:"
   ]
  },
  {
   "cell_type": "code",
   "execution_count": null,
   "id": "921aceac",
   "metadata": {},
   "outputs": [],
   "source": [
    "...\n",
    "<form onsubmit=\"return confirm('yakin mau hapus?')\" class=\"d-inline\" action=\"{{ '/siswa/'.$item->nomor_induk }}\" method=\"post\">\n",
    "@csrf \n",
    "@method('DELETE') \n",
    "<button type=\"submit\" class=\"btn btn-danger btn-sm\">Del</button>\n",
    "</form>\n",
    "..."
   ]
  }
 ],
 "metadata": {
  "kernelspec": {
   "display_name": "Python 3 (ipykernel)",
   "language": "python",
   "name": "python3"
  },
  "language_info": {
   "codemirror_mode": {
    "name": "ipython",
    "version": 3
   },
   "file_extension": ".py",
   "mimetype": "text/x-python",
   "name": "python",
   "nbconvert_exporter": "python",
   "pygments_lexer": "ipython3",
   "version": "3.10.4"
  }
 },
 "nbformat": 4,
 "nbformat_minor": 5
}
